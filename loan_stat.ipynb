{
 "cells": [
  {
   "cell_type": "markdown",
   "metadata": {},
   "source": [
    "Import Packages"
   ]
  },
  {
   "cell_type": "code",
   "execution_count": 2,
   "metadata": {},
   "outputs": [],
   "source": [
    "import pandas as pd\n",
    "from sklearn.model_selection import train_test_split\n",
    "from sklearn.ensemble import RandomForestClassifier\n",
    "from sklearn.metrics import accuracy_score\n",
    "from sklearn.metrics import confusion_matrix\n",
    "import matplotlib.pyplot as plt\n",
    "from sklearn.metrics import plot_confusion_matrix\n",
    "from imblearn.over_sampling import SMOTE\n",
    "from sklearn.model_selection import TimeSeriesSplit\n",
    "from sklearn.model_selection import cross_val_score\n",
    "from sklearn.metrics import precision_score, make_scorer\n",
    "from sklearn.model_selection import RandomizedSearchCV\n",
    "from sklearn.metrics import recall_score"
   ]
  },
  {
   "cell_type": "markdown",
   "metadata": {},
   "source": [
    "Loading csv year by year"
   ]
  },
  {
   "cell_type": "code",
   "execution_count": null,
   "metadata": {},
   "outputs": [],
   "source": [
    "df1 = pd.read_csv('C:/Users/test/Desktop/L/LoanStats_2007-2011.csv')\n",
    "df1['year'] = 2011\n",
    "df2 = pd.read_csv('C:/Users/test/Desktop/L/LoanStats_2012-2013.csv')\n",
    "df2['year'] = 2013\n",
    "df3 = pd.read_csv('C:/Users/test/Desktop/L/LoanStats_2014.csv')\n",
    "df3['year'] = 2014\n",
    "df4 = pd.read_csv('C:/Users/test/Desktop/L/LoanStats_2015.csv')\n",
    "df4['year'] = 2015\n",
    "df5 = pd.read_csv('C:/Users/test/Desktop/L/LoanStats_2016.csv')\n",
    "df5['year'] = 2016\n",
    "df6 = pd.read_csv('C:/Users/test/Desktop/L/LoanStats_2017.csv')\n",
    "df6['year'] = 2017"
   ]
  },
  {
   "cell_type": "markdown",
   "metadata": {},
   "source": [
    "Data info"
   ]
  },
  {
   "cell_type": "code",
   "execution_count": 7,
   "metadata": {},
   "outputs": [
    {
     "name": "stdout",
     "output_type": "stream",
     "text": [
      "<class 'pandas.core.frame.DataFrame'>\n",
      "Int64Index: 1646308 entries, 0 to 411706\n",
      "Columns: 146 entries, id to year\n",
      "dtypes: float64(96), int64(3), object(47)\n",
      "memory usage: 1.8+ GB\n"
     ]
    }
   ],
   "source": [
    "df = pd.concat([df1, df2, df3, df4, df5, df6])\n",
    "df.head()\n",
    "df.info()"
   ]
  },
  {
   "cell_type": "markdown",
   "metadata": {},
   "source": [
    "Filer columns and release memory"
   ]
  },
  {
   "cell_type": "code",
   "execution_count": 8,
   "metadata": {},
   "outputs": [],
   "source": [
    "#filter df with target cols\n",
    "data_df = df[['loan_status','annual_inc', 'emp_length', 'inq_last_6mths', 'dti', 'delinq_2yrs', 'purpose', 'loan_amnt', 'term', 'grade', 'total_pymnt', 'total_rec_prncp', 'recoveries', 'year']]\n",
    "\n",
    "#release memory\n",
    "del df "
   ]
  },
  {
   "cell_type": "markdown",
   "metadata": {},
   "source": [
    "Reset datatype and create dummy variables"
   ]
  },
  {
   "cell_type": "code",
   "execution_count": 9,
   "metadata": {},
   "outputs": [
    {
     "name": "stderr",
     "output_type": "stream",
     "text": [
      "C:\\Users\\test\\AppData\\Local\\Temp/ipykernel_20744/3275308151.py:14: FutureWarning: The default value of regex will change from True to False in a future version. In addition, single character regular expressions will *not* be treated as literal strings when regex=True.\n",
      "  data_df['emp_length'] = data_df['emp_length'].str.replace('+', '')\n"
     ]
    }
   ],
   "source": [
    "#filter loan_status\n",
    "data_df = data_df[(data_df['loan_status'] == 'Charged Off') | (data_df['loan_status'] == 'Fully Paid') | (data_df['loan_status'] == 'Default')]\n",
    "\n",
    "#annual_inc to float\n",
    "data_df['annual_inc'] = data_df['annual_inc'].astype('float64')\n",
    "\n",
    "#cleaning unknow variable 'Jan-97' in delinq_2yrs and changing delinq_2yrs to float\n",
    "data_df.drop(data_df[data_df['delinq_2yrs'] == 'Jan-97'].index, axis=0, inplace=True)\n",
    "data_df['delinq_2yrs'] = data_df['delinq_2yrs'].astype('float64')\n",
    "\n",
    "#string operation for emp_length\n",
    "data_df['emp_length'] = data_df['emp_length'].str.replace('years', '')\n",
    "data_df['emp_length'] = data_df['emp_length'].str.replace('year', '')\n",
    "data_df['emp_length'] = data_df['emp_length'].str.replace('+', '')\n",
    "data_df['emp_length'] = data_df['emp_length'].str.replace('< 1', '0')\n",
    "data_df['emp_length'] = data_df['emp_length'].astype('float64')\n",
    "\n",
    "#getting dummies for loan_status\n",
    "data_df['loan_status'] = data_df['loan_status'].str.replace('Charged Off', '1')\n",
    "data_df['loan_status'] = data_df['loan_status'].str.replace('Default', '1')\n",
    "data_df['loan_status'] = data_df['loan_status'].str.replace('Fully Paid', '0')\n",
    "data_df['loan_status'] = data_df['loan_status'].astype('float64')\n",
    "\n",
    "#getting dummies for purpose\n",
    "data_df.loc[data_df['purpose'] != 'debt_consolidation', 'purpose'] = 0\n",
    "data_df.loc[data_df['purpose'] == 'debt_consolidation', 'purpose'] = 1\n",
    "data_df['purpose'] = data_df['purpose'].astype('float64')\n",
    "\n",
    "#string operation for term\n",
    "data_df['term'] = data_df['term'].str.replace('months', '')\n",
    "data_df['term'] = data_df['term'].astype('int64')\n",
    "\n",
    "#create grade scored dummies\n",
    "data_df['grade'] = data_df['grade'].str.replace('A', '1')\n",
    "data_df['grade'] = data_df['grade'].str.replace('B', '2')\n",
    "data_df['grade'] = data_df['grade'].str.replace('C', '3')\n",
    "data_df['grade'] = data_df['grade'].str.replace('D', '4')\n",
    "data_df['grade'] = data_df['grade'].str.replace('E', '5')\n",
    "data_df['grade'] = data_df['grade'].str.replace('F', '6')\n",
    "data_df['grade'] = data_df['grade'].str.replace('G', '7')\n",
    "data_df['grade'] = data_df['grade'].astype('int64')"
   ]
  },
  {
   "cell_type": "code",
   "execution_count": 10,
   "metadata": {},
   "outputs": [
    {
     "name": "stdout",
     "output_type": "stream",
     "text": [
      "<class 'pandas.core.frame.DataFrame'>\n",
      "Int64Index: 916567 entries, 0 to 411701\n",
      "Data columns (total 14 columns):\n",
      " #   Column           Non-Null Count   Dtype  \n",
      "---  ------           --------------   -----  \n",
      " 0   loan_status      916567 non-null  float64\n",
      " 1   annual_inc       916567 non-null  float64\n",
      " 2   emp_length       916567 non-null  float64\n",
      " 3   inq_last_6mths   916566 non-null  float64\n",
      " 4   dti              916567 non-null  float64\n",
      " 5   delinq_2yrs      916567 non-null  float64\n",
      " 6   purpose          916567 non-null  float64\n",
      " 7   loan_amnt        916567 non-null  int64  \n",
      " 8   term             916567 non-null  int64  \n",
      " 9   grade            916567 non-null  int64  \n",
      " 10  total_pymnt      916567 non-null  float64\n",
      " 11  total_rec_prncp  916567 non-null  float64\n",
      " 12  recoveries       916567 non-null  float64\n",
      " 13  year             916567 non-null  int64  \n",
      "dtypes: float64(10), int64(4)\n",
      "memory usage: 104.9 MB\n"
     ]
    }
   ],
   "source": [
    "data_df.info()"
   ]
  },
  {
   "cell_type": "markdown",
   "metadata": {},
   "source": [
    "Drop na and count percentage for each time span"
   ]
  },
  {
   "cell_type": "code",
   "execution_count": 13,
   "metadata": {},
   "outputs": [
    {
     "name": "stdout",
     "output_type": "stream",
     "text": [
      "2011 percentage:2.72%\n",
      "\n",
      "2013 percentage:19.16%\n",
      "\n",
      "2014 percentage:22.09%\n",
      "\n",
      "2015 percentage:29.45%\n",
      "\n",
      "2016 percentage:19.14%\n",
      "\n",
      "2017 percentage:7.43%\n",
      "\n"
     ]
    }
   ],
   "source": [
    "#drop na; one row\n",
    "data_df = data_df.dropna()\n",
    "\n",
    "data_df = data_df.set_index('year', drop=False,)\n",
    "\n",
    "#find percentage for each year\n",
    "years_list = [2011, 2013, 2014, 2015, 2016, 2017]\n",
    "total = data_df['loan_status'].count()\n",
    "for year in years_list:\n",
    "    c = data_df.loc[year]['loan_status'].count()\n",
    "    percent = str(round((c/total)*100, 2))\n",
    "    print(str(year) + ' percentage:' + percent + '%\\n')\n",
    "\n",
    "\n",
    "#set year col as index\n",
    "data_df = data_df.reset_index(drop=True)"
   ]
  },
  {
   "cell_type": "markdown",
   "metadata": {},
   "source": [
    "Subsetting X and y for model training"
   ]
  },
  {
   "cell_type": "code",
   "execution_count": 14,
   "metadata": {},
   "outputs": [],
   "source": [
    "#subsetting X, y\n",
    "y = data_df['loan_status']\n",
    "X = data_df.loc[:, (data_df.columns!='loan_status') & (data_df.columns!='recoveries') & (data_df.columns!='total_rec_prncp') & (data_df.columns!='total_pymnt')]\n"
   ]
  },
  {
   "cell_type": "markdown",
   "metadata": {},
   "source": [
    "Function for original model  \n",
    "Model: RandomForest  \n",
    "Resample method: SMOTE  "
   ]
  },
  {
   "cell_type": "code",
   "execution_count": 15,
   "metadata": {},
   "outputs": [],
   "source": [
    "def clf_original():\n",
    "    #split train, test dataset\n",
    "    X_train, X_test, y_train, y_test  =\\\n",
    "        train_test_split(X, y, test_size=0.25, shuffle = False)\n",
    "        \n",
    "    #data resample, using SMOTE\n",
    "    X_re, y_re = SMOTE(random_state=1111).fit_resample(X_train, y_train)  \n",
    "    \n",
    "    clf = RandomForestClassifier(n_estimators=100, max_depth=18, random_state=1111, criterion='entropy')\n",
    "\n",
    "    clf.fit(X_re, y_re)\n",
    "    train_predictions = clf.predict(X_re)\n",
    "    test_predictions = clf.predict(X_test)\n",
    "\n",
    "    cm = confusion_matrix(y_test, test_predictions)\n",
    "    print(accuracy_score(y_re, train_predictions))\n",
    "    print(accuracy_score(y_test, test_predictions))\n",
    "    print(precision_score(y_test, test_predictions))\n",
    "    print(cm)\n",
    "    sorted_idx = clf.feature_importances_.argsort()\n",
    "    plt.barh(X.columns[sorted_idx], clf.feature_importances_[sorted_idx])\n",
    "\n",
    "    plot_confusion_matrix(clf, X_test, y_test)  \n",
    "    plt.show()"
   ]
  },
  {
   "cell_type": "markdown",
   "metadata": {},
   "source": [
    "Model validation using K-fold  \n",
    "K=5"
   ]
  },
  {
   "cell_type": "code",
   "execution_count": 16,
   "metadata": {},
   "outputs": [],
   "source": [
    "def shuffle_kfold():\n",
    "    #shuffle dataset and run K-fold\n",
    "    in_dic = {0:[0,146649],1:[146650,183313],2:[183314,329964],3:[329965,366628],4:[366629,513279],5:[513280,5499943],6:[549944,696594],7:[696595,733258],8:[733259,879908],9:[879909,916565]}\n",
    "\n",
    "    avg_precison = []\n",
    "    avg_recall = []\n",
    "    avg_accuracy = []\n",
    "    train_index = 0\n",
    "    test_index = 1\n",
    "    data_df_1 = data_df.sample(frac=1)\n",
    "    data_df_1 = data_df_1.reset_index(drop=True)\n",
    "    y_1 = data_df['loan_status']\n",
    "    X_1 = data_df.loc[:, (data_df.columns!='loan_status') & (data_df.columns!='recoveries') & (data_df.columns!='total_rec_prncp') & (data_df.columns!='total_pymnt')]\n",
    "    for i in range(5):\n",
    "        train = in_dic[train_index]\n",
    "        test = in_dic[test_index]\n",
    "        X_train = X_1[train[0]:train[1]]\n",
    "        X_test = X_1[test[0]:test[1]]\n",
    "        y_train = y_1[train[0]:train[1]]\n",
    "        y_test = y_1[test[0]:test[1]]\n",
    "        \n",
    "        X_re, y_re = SMOTE(random_state=1111).fit_resample(X_train, y_train)  \n",
    "        \n",
    "        clf = RandomForestClassifier(n_estimators=100, max_depth=18, random_state=1111, criterion='entropy')\n",
    "\n",
    "        clf.fit(X_re, y_re)\n",
    "        train_predictions = clf.predict(X_re)\n",
    "        test_predictions = clf.predict(X_test)\n",
    "        \n",
    "        train_accuracy = round(accuracy_score(y_re, train_predictions), 3)\n",
    "        test_accuracy = round(accuracy_score(y_test, test_predictions), 3)\n",
    "        avg_accuracy.append(test_accuracy )\n",
    "        print(train_accuracy)\n",
    "        print(test_accuracy)\n",
    "        \n",
    "\n",
    "        avg_precison.append(round(precision_score(y_test, test_predictions), 3))\n",
    "        avg_recall.append(round(recall_score(y_test, test_predictions), 3))\n",
    "        plot_confusion_matrix(clf, X_test, y_test)  \n",
    "        plt.show()\n",
    "        \n",
    "        train_index += 2\n",
    "        test_index += 2\n",
    "    avg_precision_score = sum(avg_precison) / len(avg_precison)\n",
    "    avg_recall_score = sum(avg_recall) / len(avg_recall)\n",
    "    print(avg_precision_score, avg_recall_score)\n",
    "    \n",
    "    return(avg_precison, avg_recall, avg_accuracy)    "
   ]
  },
  {
   "cell_type": "markdown",
   "metadata": {},
   "source": [
    "Model validation using TimeSplit"
   ]
  },
  {
   "cell_type": "code",
   "execution_count": 17,
   "metadata": {},
   "outputs": [],
   "source": [
    "def time_split():\n",
    "    avg_precison = []\n",
    "    avg_recall = []\n",
    "    avg_accuracy = []\n",
    "    years_list_1 = [2013, 2014, 2015, 2016, 2017]\n",
    "    \n",
    "    for year in years_list_1:\n",
    "        #filter year for train data\n",
    "        train_data = data_df[data_df['year'] == year]\n",
    "        #subset X, y dataset\n",
    "        X_train = train_data.loc[:, (data_df.columns!='loan_status') & (data_df.columns!='recoveries') & (data_df.columns!='total_rec_prncp') & (data_df.columns!='total_pymnt') & (data_df.columns!='year')]\n",
    "        y_train = train_data['loan_status']\n",
    "        #count total row for training data\n",
    "        row_count = y_train.count()\n",
    "        #set test data size: round to interger\n",
    "        test_count = int(row_count*0.2)\n",
    "        \n",
    "        X_re, y_re = SMOTE(random_state=1111).fit_resample(X_train, y_train)\n",
    "        \n",
    "        #filter year for test data\n",
    "        if year<2017:\n",
    "            test_data = data_df[data_df['year'] == year+1]\n",
    "            #subset X, y dataset\n",
    "            X_test = test_data.loc[:, (data_df.columns!='loan_status') & (data_df.columns!='recoveries') & (data_df.columns!='total_rec_prncp') & (data_df.columns!='total_pymnt') & (data_df.columns!='year')][0:test_count]\n",
    "            y_test = test_data['loan_status'][0:test_count]                            \n",
    "        else:\n",
    "            break\n",
    "        \n",
    "        clf = RandomForestClassifier(n_estimators=100, max_depth=18, random_state=1111, criterion='entropy')\n",
    "        \n",
    "        clf.fit(X_re, y_re)\n",
    "        train_predictions = clf.predict(X_re)\n",
    "        test_predictions = clf.predict(X_test)\n",
    "        \n",
    "        train_accuracy = round(accuracy_score(y_re, train_predictions), 3)\n",
    "        test_accuracy = round(accuracy_score(y_test, test_predictions), 3)\n",
    "        avg_accuracy.append(test_accuracy )\n",
    "        print(train_accuracy)\n",
    "        print(test_accuracy)\n",
    "        \n",
    "        \n",
    "        avg_precison.append(round(precision_score(y_test, test_predictions), 3))\n",
    "        avg_recall.append(round(recall_score(y_test, test_predictions), 3))\n",
    "        plot_confusion_matrix(clf, X_test, y_test)  \n",
    "        plt.show()\n",
    "        avg_precision_score = sum(avg_precison) / len(avg_precison)\n",
    "        avg_recall_score = sum(avg_recall) / len(avg_recall)\n",
    "        print(avg_precision_score, avg_recall_score)\n",
    "        \n",
    "    return(avg_precison, avg_recall, avg_accuracy)\n"
   ]
  },
  {
   "cell_type": "code",
   "execution_count": 20,
   "metadata": {},
   "outputs": [
    {
     "name": "stdout",
     "output_type": "stream",
     "text": [
      "0.8605338295152282\n",
      "0.7709978965008597\n",
      "0.4496039532010755\n",
      "[[170481   7574]\n",
      " [ 44900   6187]]\n"
     ]
    },
    {
     "name": "stderr",
     "output_type": "stream",
     "text": [
      "c:\\Users\\test\\anaconda3\\lib\\site-packages\\sklearn\\utils\\deprecation.py:87: FutureWarning: Function plot_confusion_matrix is deprecated; Function `plot_confusion_matrix` is deprecated in 1.0 and will be removed in 1.2. Use one of the class methods: ConfusionMatrixDisplay.from_predictions or ConfusionMatrixDisplay.from_estimator.\n",
      "  warnings.warn(msg, category=FutureWarning)\n"
     ]
    },
    {
     "data": {
      "image/png": "[encoded data removed]",
      "text/plain": [
       "<Figure size 432x288 with 1 Axes>"
      ]
     },
     "metadata": {
      "needs_background": "light"
     },
     "output_type": "display_data"
    },
    {
     "data": {
      "image/png": "[encoded data removed]",
      "text/plain": [
       "<Figure size 432x288 with 2 Axes>"
      ]
     },
     "metadata": {
      "needs_background": "light"
     },
     "output_type": "display_data"
    }
   ],
   "source": [
    "clf_original()"
   ]
  },
  {
   "cell_type": "code",
   "execution_count": 21,
   "metadata": {},
   "outputs": [
    {
     "name": "stdout",
     "output_type": "stream",
     "text": [
      "0.908\n",
      "0.833\n"
     ]
    },
    {
     "name": "stderr",
     "output_type": "stream",
     "text": [
      "c:\\Users\\test\\anaconda3\\lib\\site-packages\\sklearn\\utils\\deprecation.py:87: FutureWarning: Function plot_confusion_matrix is deprecated; Function `plot_confusion_matrix` is deprecated in 1.0 and will be removed in 1.2. Use one of the class methods: ConfusionMatrixDisplay.from_predictions or ConfusionMatrixDisplay.from_estimator.\n",
      "  warnings.warn(msg, category=FutureWarning)\n"
     ]
    },
    {
     "data": {
      "image/png": "[encoded data removed]",
      "text/plain": [
       "<Figure size 432x288 with 2 Axes>"
      ]
     },
     "metadata": {
      "needs_background": "light"
     },
     "output_type": "display_data"
    },
    {
     "name": "stdout",
     "output_type": "stream",
     "text": [
      "0.902\n",
      "0.81\n"
     ]
    },
    {
     "name": "stderr",
     "output_type": "stream",
     "text": [
      "c:\\Users\\test\\anaconda3\\lib\\site-packages\\sklearn\\utils\\deprecation.py:87: FutureWarning: Function plot_confusion_matrix is deprecated; Function `plot_confusion_matrix` is deprecated in 1.0 and will be removed in 1.2. Use one of the class methods: ConfusionMatrixDisplay.from_predictions or ConfusionMatrixDisplay.from_estimator.\n",
      "  warnings.warn(msg, category=FutureWarning)\n"
     ]
    },
    {
     "data": {
      "image/png": "[encoded data removed]",
      "text/plain": [
       "<Figure size 432x288 with 2 Axes>"
      ]
     },
     "metadata": {
      "needs_background": "light"
     },
     "output_type": "display_data"
    },
    {
     "name": "stdout",
     "output_type": "stream",
     "text": [
      "0.888\n",
      "0.77\n"
     ]
    },
    {
     "name": "stderr",
     "output_type": "stream",
     "text": [
      "c:\\Users\\test\\anaconda3\\lib\\site-packages\\sklearn\\utils\\deprecation.py:87: FutureWarning: Function plot_confusion_matrix is deprecated; Function `plot_confusion_matrix` is deprecated in 1.0 and will be removed in 1.2. Use one of the class methods: ConfusionMatrixDisplay.from_predictions or ConfusionMatrixDisplay.from_estimator.\n",
      "  warnings.warn(msg, category=FutureWarning)\n"
     ]
    },
    {
     "data": {
      "image/png": "[encoded data removed]",
      "text/plain": [
       "<Figure size 432x288 with 2 Axes>"
      ]
     },
     "metadata": {
      "needs_background": "light"
     },
     "output_type": "display_data"
    },
    {
     "name": "stdout",
     "output_type": "stream",
     "text": [
      "0.889\n",
      "0.742\n"
     ]
    },
    {
     "name": "stderr",
     "output_type": "stream",
     "text": [
      "c:\\Users\\test\\anaconda3\\lib\\site-packages\\sklearn\\utils\\deprecation.py:87: FutureWarning: Function plot_confusion_matrix is deprecated; Function `plot_confusion_matrix` is deprecated in 1.0 and will be removed in 1.2. Use one of the class methods: ConfusionMatrixDisplay.from_predictions or ConfusionMatrixDisplay.from_estimator.\n",
      "  warnings.warn(msg, category=FutureWarning)\n"
     ]
    },
    {
     "data": {
      "image/png": "[encoded data removed]",
      "text/plain": [
       "<Figure size 432x288 with 2 Axes>"
      ]
     },
     "metadata": {
      "needs_background": "light"
     },
     "output_type": "display_data"
    },
    {
     "name": "stdout",
     "output_type": "stream",
     "text": [
      "0.878\n",
      "0.858\n"
     ]
    },
    {
     "name": "stderr",
     "output_type": "stream",
     "text": [
      "c:\\Users\\test\\anaconda3\\lib\\site-packages\\sklearn\\utils\\deprecation.py:87: FutureWarning: Function plot_confusion_matrix is deprecated; Function `plot_confusion_matrix` is deprecated in 1.0 and will be removed in 1.2. Use one of the class methods: ConfusionMatrixDisplay.from_predictions or ConfusionMatrixDisplay.from_estimator.\n",
      "  warnings.warn(msg, category=FutureWarning)\n"
     ]
    },
    {
     "data": {
      "image/png": "[encoded data removed]",
      "text/plain": [
       "<Figure size 432x288 with 2 Axes>"
      ]
     },
     "metadata": {
      "needs_background": "light"
     },
     "output_type": "display_data"
    },
    {
     "name": "stdout",
     "output_type": "stream",
     "text": [
      "0.4144 0.1206\n"
     ]
    },
    {
     "data": {
      "text/plain": [
       "([0.354, 0.426, 0.448, 0.522, 0.322],\n",
       " [0.073, 0.159, 0.185, 0.157, 0.029],\n",
       " [0.833, 0.81, 0.77, 0.742, 0.858])"
      ]
     },
     "execution_count": 21,
     "metadata": {},
     "output_type": "execute_result"
    }
   ],
   "source": [
    "shuffle_kfold()"
   ]
  },
  {
   "cell_type": "code",
   "execution_count": 19,
   "metadata": {},
   "outputs": [
    {
     "name": "stdout",
     "output_type": "stream",
     "text": [
      "0.9\n",
      "0.811\n"
     ]
    },
    {
     "name": "stderr",
     "output_type": "stream",
     "text": [
      "c:\\Users\\test\\anaconda3\\lib\\site-packages\\sklearn\\utils\\deprecation.py:87: FutureWarning: Function plot_confusion_matrix is deprecated; Function `plot_confusion_matrix` is deprecated in 1.0 and will be removed in 1.2. Use one of the class methods: ConfusionMatrixDisplay.from_predictions or ConfusionMatrixDisplay.from_estimator.\n",
      "  warnings.warn(msg, category=FutureWarning)\n"
     ]
    },
    {
     "data": {
      "image/png": "[encoded data removed]",
      "text/plain": [
       "<Figure size 432x288 with 2 Axes>"
      ]
     },
     "metadata": {
      "needs_background": "light"
     },
     "output_type": "display_data"
    },
    {
     "name": "stdout",
     "output_type": "stream",
     "text": [
      "0.434 0.059\n",
      "0.895\n",
      "0.738\n"
     ]
    },
    {
     "name": "stderr",
     "output_type": "stream",
     "text": [
      "c:\\Users\\test\\anaconda3\\lib\\site-packages\\sklearn\\utils\\deprecation.py:87: FutureWarning: Function plot_confusion_matrix is deprecated; Function `plot_confusion_matrix` is deprecated in 1.0 and will be removed in 1.2. Use one of the class methods: ConfusionMatrixDisplay.from_predictions or ConfusionMatrixDisplay.from_estimator.\n",
      "  warnings.warn(msg, category=FutureWarning)\n"
     ]
    },
    {
     "data": {
      "image/png": "[encoded data removed]",
      "text/plain": [
       "<Figure size 432x288 with 2 Axes>"
      ]
     },
     "metadata": {
      "needs_background": "light"
     },
     "output_type": "display_data"
    },
    {
     "name": "stdout",
     "output_type": "stream",
     "text": [
      "0.47250000000000003 0.1025\n",
      "0.864\n",
      "0.738\n"
     ]
    },
    {
     "name": "stderr",
     "output_type": "stream",
     "text": [
      "c:\\Users\\test\\anaconda3\\lib\\site-packages\\sklearn\\utils\\deprecation.py:87: FutureWarning: Function plot_confusion_matrix is deprecated; Function `plot_confusion_matrix` is deprecated in 1.0 and will be removed in 1.2. Use one of the class methods: ConfusionMatrixDisplay.from_predictions or ConfusionMatrixDisplay.from_estimator.\n",
      "  warnings.warn(msg, category=FutureWarning)\n"
     ]
    },
    {
     "data": {
      "image/png": "[encoded data removed]",
      "text/plain": [
       "<Figure size 432x288 with 2 Axes>"
      ]
     },
     "metadata": {
      "needs_background": "light"
     },
     "output_type": "display_data"
    },
    {
     "name": "stdout",
     "output_type": "stream",
     "text": [
      "0.48066666666666674 0.13\n",
      "0.87\n",
      "0.798\n"
     ]
    },
    {
     "name": "stderr",
     "output_type": "stream",
     "text": [
      "c:\\Users\\test\\anaconda3\\lib\\site-packages\\sklearn\\utils\\deprecation.py:87: FutureWarning: Function plot_confusion_matrix is deprecated; Function `plot_confusion_matrix` is deprecated in 1.0 and will be removed in 1.2. Use one of the class methods: ConfusionMatrixDisplay.from_predictions or ConfusionMatrixDisplay.from_estimator.\n",
      "  warnings.warn(msg, category=FutureWarning)\n"
     ]
    },
    {
     "data": {
      "image/png": "[encoded data removed]",
      "text/plain": [
       "<Figure size 432x288 with 2 Axes>"
      ]
     },
     "metadata": {
      "needs_background": "light"
     },
     "output_type": "display_data"
    },
    {
     "name": "stdout",
     "output_type": "stream",
     "text": [
      "0.45225000000000004 0.13775\n"
     ]
    },
    {
     "data": {
      "text/plain": [
       "([0.434, 0.511, 0.497, 0.367],\n",
       " [0.059, 0.146, 0.185, 0.161],\n",
       " [0.811, 0.738, 0.738, 0.798])"
      ]
     },
     "execution_count": 19,
     "metadata": {},
     "output_type": "execute_result"
    }
   ],
   "source": [
    "time_split()"
   ]
  }
 ],
 "metadata": {
  "kernelspec": {
   "display_name": "Python 3.9.7 ('base')",
   "language": "python",
   "name": "python3"
  },
  "language_info": {
   "codemirror_mode": {
    "name": "ipython",
    "version": 3
   },
   "file_extension": ".py",
   "mimetype": "text/x-python",
   "name": "python",
   "nbconvert_exporter": "python",
   "pygments_lexer": "ipython3",
   "version": "3.9.7"
  },
  "orig_nbformat": 4,
  "vscode": {
   "interpreter": {
    "hash": "51ff2e06048c899726fdf58076269735b99ca5d50955928d5afc64b7e9d33ce9"
   }
  }
 },
 "nbformat": 4,
 "nbformat_minor": 2
}
